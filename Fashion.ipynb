{
 "cells": [
  {
   "cell_type": "markdown",
   "metadata": {},
   "source": [
    "# Image Classification by MLP - Fashion MNIST"
   ]
  },
  {
   "cell_type": "markdown",
   "metadata": {},
   "source": [
    "In this exercise, we will try to use a neural network on a simple classification task: classifying images of clothes into 10 classes."
   ]
  },
  {
   "cell_type": "markdown",
   "metadata": {},
   "source": [
    "We will first download the data:"
   ]
  },
  {
   "cell_type": "code",
   "execution_count": 3,
   "metadata": {
    "scrolled": true
   },
   "outputs": [
    {
     "name": "stdout",
     "output_type": "stream",
     "text": [
      "Downloading data from https://storage.googleapis.com/tensorflow/tf-keras-datasets/train-labels-idx1-ubyte.gz\n",
      "29515/29515 [==============================] - 0s 1us/step\n",
      "Downloading data from https://storage.googleapis.com/tensorflow/tf-keras-datasets/train-images-idx3-ubyte.gz\n",
      "26421880/26421880 [==============================] - 3s 0us/step\n",
      "Downloading data from https://storage.googleapis.com/tensorflow/tf-keras-datasets/t10k-labels-idx1-ubyte.gz\n",
      "5148/5148 [==============================] - 0s 0s/step\n",
      "Downloading data from https://storage.googleapis.com/tensorflow/tf-keras-datasets/t10k-images-idx3-ubyte.gz\n",
      "4422102/4422102 [==============================] - 0s 0us/step\n"
     ]
    },
    {
     "data": {
      "text/plain": [
       "(10000, 28, 28)"
      ]
     },
     "execution_count": 3,
     "metadata": {},
     "output_type": "execute_result"
    }
   ],
   "source": [
    "from tensorflow.keras.datasets import fashion_mnist\n",
    "\n",
    "#TODO: load dataset\n",
    "(X_train, y_train), (X_test, y_test) = fashion_mnist.load_data()\n",
    "\n",
    "#TODO: Resample the dataset if needed\n",
    "X_train = X_train[:10000]\n",
    "y_train = y_train[:10000] \n",
    "X_test = X_test[:1000]\n",
    "y_test = y_test[:1000]\n",
    "\n",
    "X_train.shape"
   ]
  },
  {
   "cell_type": "markdown",
   "metadata": {},
   "source": [
    "This dataset contains 10 classes:\n",
    "* 0:\tT-shirt/top\n",
    "* 1:\tTrouser\n",
    "* 2:\tPullover\n",
    "* 3:\tDress\n",
    "* 4:\tCoat\n",
    "* 5:\tSandal\n",
    "* 6:\tShirt\n",
    "* 7:\tSneaker\n",
    "* 8:\tBag\n",
    "* 9:\tAnkle boot"
   ]
  },
  {
   "cell_type": "markdown",
   "metadata": {},
   "source": [
    "Now begin by exploring the data. Try to display some images with the associated label."
   ]
  },
  {
   "cell_type": "code",
   "execution_count": 4,
   "metadata": {
    "scrolled": true
   },
   "outputs": [
    {
     "data": {
      "image/png": "[encoded data removed]",
      "text/plain": [
       "<Figure size 640x480 with 1 Axes>"
      ]
     },
     "metadata": {},
     "output_type": "display_data"
    }
   ],
   "source": [
    "# TODO: Explore the data, display some input images\n",
    "%matplotlib inline\n",
    "import matplotlib.pyplot as plt\n",
    "import numpy as np\n",
    "\n",
    "label_class = ['top', 'trouser', 'pullover', 'dress', 'coat', 'sandal', 'shirt', 'sneaker', 'bag', 'ankle boot']\n",
    "\n",
    "# np.random.seed(0)\n",
    "idx = np.random.randint(X_train.shape[0])\n",
    "plt.imshow(X_train[idx], cmap='gray')\n",
    "plt.title(label_class[y_train[idx]])\n",
    "plt.show()"
   ]
  },
  {
   "cell_type": "markdown",
   "metadata": {},
   "source": [
    "**Before going further**: what methods could you use to perform such a classification task?"
   ]
  },
  {
   "cell_type": "markdown",
   "metadata": {},
   "source": [
    "---"
   ]
  },
  {
   "cell_type": "markdown",
   "metadata": {},
   "source": [
    "The first method you will try is using neural networks. First step is the data preparation: data rescaling, label preparation.\n",
    "\n",
    "Hint: you can use the Keras function `to_categorical`"
   ]
  },
  {
   "cell_type": "code",
   "execution_count": 5,
   "metadata": {},
   "outputs": [],
   "source": [
    "# TODO: Make the data preparation\n",
    "from tensorflow.keras.utils import to_categorical\n",
    "\n",
    "y_train_cat = to_categorical(y_train)\n",
    "y_test_cat = to_categorical(y_test)\n",
    "\n",
    "X_train_norm = X_train / 255.0\n",
    "X_test_norm = X_test / 255.0\n",
    "\n",
    "# TODO: reshape the image data (2D array) into input 1D array for a neural network\n",
    "X_train_norm = X_train_norm.reshape(-1, 28*28)\n",
    "X_test_norm = X_test_norm.reshape(-1, 28*28)"
   ]
  },
  {
   "cell_type": "markdown",
   "metadata": {},
   "source": [
    "Next step: model building with Keras. Build your neural network architecture. At first, I would recommend a light architecture: no more than 2 hidden layers, with about 10 units per layer. Put that model into a function, so that you can reuse it later."
   ]
  },
  {
   "cell_type": "code",
   "execution_count": 7,
   "metadata": {},
   "outputs": [],
   "source": [
    "# TODO: Build your model\n",
    "from tensorflow.keras.models import Sequential\n",
    "from tensorflow.keras.layers import Dense\n",
    "\n",
    "def my_model(input_dim):\n",
    "    # Create the Sequential object\n",
    "    model = Sequential()\n",
    "\n",
    "    # Add 2 dense layers with 10 neurons each using sigmoid or relu activation\n",
    "    model.add(Dense(10, input_dim=input_dim, activation='sigmoid'))\n",
    "    model.add(Dense(10, activation='sigmoid'))\n",
    "    \n",
    "    # Add the output layer with one unit: the predicted result\n",
    "    model.add(Dense(10, activation='softmax'))\n",
    "    \n",
    "    return model"
   ]
  },
  {
   "cell_type": "markdown",
   "metadata": {},
   "source": [
    "Now compile and fit your model on your training data. Since this is a multiclass classification, the loss is not `binary_crossentropy` anymore, but `categorical_crossentropy`."
   ]
  },
  {
   "cell_type": "code",
   "execution_count": 8,
   "metadata": {
    "scrolled": true
   },
   "outputs": [
    {
     "name": "stdout",
     "output_type": "stream",
     "text": [
      "Epoch 1/100\n",
      "79/79 [==============================] - 1s 1ms/step - loss: 2.2629 - accuracy: 0.1298\n",
      "Epoch 2/100\n",
      "79/79 [==============================] - 0s 2ms/step - loss: 2.0979 - accuracy: 0.4042\n",
      "Epoch 3/100\n",
      "79/79 [==============================] - 0s 1ms/step - loss: 1.9672 - accuracy: 0.5709\n",
      "Epoch 4/100\n",
      "79/79 [==============================] - 0s 1ms/step - loss: 1.8325 - accuracy: 0.5416\n",
      "Epoch 5/100\n",
      "79/79 [==============================] - 0s 1ms/step - loss: 1.7023 - accuracy: 0.5336\n",
      "Epoch 6/100\n",
      "79/79 [==============================] - 0s 1ms/step - loss: 1.5822 - accuracy: 0.5492\n",
      "Epoch 7/100\n",
      "79/79 [==============================] - 0s 1ms/step - loss: 1.4777 - accuracy: 0.5894\n",
      "Epoch 8/100\n",
      "79/79 [==============================] - 0s 1ms/step - loss: 1.3881 - accuracy: 0.5942\n",
      "Epoch 9/100\n",
      "79/79 [==============================] - 0s 1ms/step - loss: 1.3117 - accuracy: 0.6409\n",
      "Epoch 10/100\n",
      "79/79 [==============================] - 0s 1ms/step - loss: 1.2460 - accuracy: 0.6570\n",
      "Epoch 11/100\n",
      "79/79 [==============================] - 0s 1ms/step - loss: 1.1883 - accuracy: 0.6667\n",
      "Epoch 12/100\n",
      "79/79 [==============================] - 0s 1ms/step - loss: 1.1360 - accuracy: 0.6720\n",
      "Epoch 13/100\n",
      "79/79 [==============================] - 0s 1ms/step - loss: 1.0885 - accuracy: 0.6980\n",
      "Epoch 14/100\n",
      "79/79 [==============================] - 0s 1ms/step - loss: 1.0440 - accuracy: 0.7156\n",
      "Epoch 15/100\n",
      "79/79 [==============================] - 0s 2ms/step - loss: 1.0042 - accuracy: 0.7247\n",
      "Epoch 16/100\n",
      "79/79 [==============================] - 0s 1ms/step - loss: 0.9683 - accuracy: 0.7355\n",
      "Epoch 17/100\n",
      "79/79 [==============================] - 0s 1ms/step - loss: 0.9337 - accuracy: 0.7422\n",
      "Epoch 18/100\n",
      "79/79 [==============================] - 0s 1ms/step - loss: 0.9029 - accuracy: 0.7482\n",
      "Epoch 19/100\n",
      "79/79 [==============================] - 0s 1ms/step - loss: 0.8734 - accuracy: 0.7595\n",
      "Epoch 20/100\n",
      "79/79 [==============================] - 0s 1ms/step - loss: 0.8436 - accuracy: 0.7596\n",
      "Epoch 21/100\n",
      "79/79 [==============================] - 0s 1ms/step - loss: 0.8163 - accuracy: 0.7703\n",
      "Epoch 22/100\n",
      "79/79 [==============================] - 0s 1ms/step - loss: 0.7912 - accuracy: 0.7709\n",
      "Epoch 23/100\n",
      "79/79 [==============================] - 0s 1ms/step - loss: 0.7660 - accuracy: 0.7771\n",
      "Epoch 24/100\n",
      "79/79 [==============================] - 0s 1ms/step - loss: 0.7425 - accuracy: 0.7797\n",
      "Epoch 25/100\n",
      "79/79 [==============================] - 0s 1ms/step - loss: 0.7209 - accuracy: 0.7821\n",
      "Epoch 26/100\n",
      "79/79 [==============================] - 0s 1ms/step - loss: 0.7012 - accuracy: 0.7837\n",
      "Epoch 27/100\n",
      "79/79 [==============================] - 0s 1ms/step - loss: 0.6830 - accuracy: 0.7861\n",
      "Epoch 28/100\n",
      "79/79 [==============================] - 0s 1ms/step - loss: 0.6659 - accuracy: 0.7889\n",
      "Epoch 29/100\n",
      "79/79 [==============================] - 0s 1ms/step - loss: 0.6479 - accuracy: 0.7916\n",
      "Epoch 30/100\n",
      "79/79 [==============================] - 0s 1ms/step - loss: 0.6323 - accuracy: 0.7897\n",
      "Epoch 31/100\n",
      "79/79 [==============================] - 0s 1ms/step - loss: 0.6187 - accuracy: 0.7958\n",
      "Epoch 32/100\n",
      "79/79 [==============================] - 0s 1ms/step - loss: 0.6070 - accuracy: 0.7975\n",
      "Epoch 33/100\n",
      "79/79 [==============================] - 0s 1ms/step - loss: 0.5936 - accuracy: 0.7977\n",
      "Epoch 34/100\n",
      "79/79 [==============================] - 0s 1ms/step - loss: 0.5831 - accuracy: 0.8015\n",
      "Epoch 35/100\n",
      "79/79 [==============================] - 0s 1ms/step - loss: 0.5719 - accuracy: 0.8009\n",
      "Epoch 36/100\n",
      "79/79 [==============================] - 0s 1ms/step - loss: 0.5621 - accuracy: 0.8055\n",
      "Epoch 37/100\n",
      "79/79 [==============================] - 0s 1ms/step - loss: 0.5521 - accuracy: 0.8047\n",
      "Epoch 38/100\n",
      "79/79 [==============================] - 0s 1ms/step - loss: 0.5438 - accuracy: 0.8062\n",
      "Epoch 39/100\n",
      "79/79 [==============================] - 0s 1ms/step - loss: 0.5358 - accuracy: 0.8070\n",
      "Epoch 40/100\n",
      "79/79 [==============================] - 0s 1ms/step - loss: 0.5282 - accuracy: 0.8126\n",
      "Epoch 41/100\n",
      "79/79 [==============================] - 0s 1ms/step - loss: 0.5222 - accuracy: 0.8121\n",
      "Epoch 42/100\n",
      "79/79 [==============================] - 0s 2ms/step - loss: 0.5151 - accuracy: 0.8143\n",
      "Epoch 43/100\n",
      "79/79 [==============================] - 0s 1ms/step - loss: 0.5089 - accuracy: 0.8172\n",
      "Epoch 44/100\n",
      "79/79 [==============================] - 0s 1ms/step - loss: 0.5015 - accuracy: 0.8180\n",
      "Epoch 45/100\n",
      "79/79 [==============================] - 0s 1ms/step - loss: 0.4961 - accuracy: 0.8205\n",
      "Epoch 46/100\n",
      "79/79 [==============================] - 0s 1ms/step - loss: 0.4926 - accuracy: 0.8198\n",
      "Epoch 47/100\n",
      "79/79 [==============================] - 0s 1ms/step - loss: 0.4848 - accuracy: 0.8206\n",
      "Epoch 48/100\n",
      "79/79 [==============================] - 0s 1ms/step - loss: 0.4826 - accuracy: 0.8208\n",
      "Epoch 49/100\n",
      "79/79 [==============================] - 0s 1ms/step - loss: 0.4749 - accuracy: 0.8245\n",
      "Epoch 50/100\n",
      "79/79 [==============================] - 0s 1ms/step - loss: 0.4707 - accuracy: 0.8262\n",
      "Epoch 51/100\n",
      "79/79 [==============================] - 0s 1ms/step - loss: 0.4674 - accuracy: 0.8267\n",
      "Epoch 52/100\n",
      "79/79 [==============================] - 0s 1ms/step - loss: 0.4631 - accuracy: 0.8279\n",
      "Epoch 53/100\n",
      "79/79 [==============================] - 0s 1ms/step - loss: 0.4581 - accuracy: 0.8292\n",
      "Epoch 54/100\n",
      "79/79 [==============================] - 0s 1ms/step - loss: 0.4542 - accuracy: 0.8277\n",
      "Epoch 55/100\n",
      "79/79 [==============================] - 0s 1ms/step - loss: 0.4504 - accuracy: 0.8299\n",
      "Epoch 56/100\n",
      "79/79 [==============================] - 0s 1ms/step - loss: 0.4472 - accuracy: 0.8312\n",
      "Epoch 57/100\n",
      "79/79 [==============================] - 0s 1ms/step - loss: 0.4438 - accuracy: 0.8314\n",
      "Epoch 58/100\n",
      "79/79 [==============================] - 0s 1ms/step - loss: 0.4402 - accuracy: 0.8326\n",
      "Epoch 59/100\n",
      "79/79 [==============================] - 0s 1ms/step - loss: 0.4361 - accuracy: 0.8365\n",
      "Epoch 60/100\n",
      "79/79 [==============================] - 0s 1ms/step - loss: 0.4338 - accuracy: 0.8357\n",
      "Epoch 61/100\n",
      "79/79 [==============================] - 0s 1ms/step - loss: 0.4305 - accuracy: 0.8369\n",
      "Epoch 62/100\n",
      "79/79 [==============================] - 0s 1ms/step - loss: 0.4263 - accuracy: 0.8391\n",
      "Epoch 63/100\n",
      "79/79 [==============================] - 0s 1ms/step - loss: 0.4236 - accuracy: 0.8398\n",
      "Epoch 64/100\n",
      "79/79 [==============================] - 0s 1ms/step - loss: 0.4212 - accuracy: 0.8418\n",
      "Epoch 65/100\n",
      "79/79 [==============================] - 0s 1ms/step - loss: 0.4194 - accuracy: 0.8447\n",
      "Epoch 66/100\n",
      "79/79 [==============================] - 0s 1ms/step - loss: 0.4165 - accuracy: 0.8423\n",
      "Epoch 67/100\n",
      "79/79 [==============================] - 0s 1ms/step - loss: 0.4113 - accuracy: 0.8472\n",
      "Epoch 68/100\n",
      "79/79 [==============================] - 0s 1ms/step - loss: 0.4104 - accuracy: 0.8472\n",
      "Epoch 69/100\n",
      "79/79 [==============================] - 0s 1ms/step - loss: 0.4033 - accuracy: 0.8553\n",
      "Epoch 70/100\n",
      "79/79 [==============================] - 0s 1ms/step - loss: 0.4008 - accuracy: 0.8597\n",
      "Epoch 71/100\n",
      "79/79 [==============================] - 0s 1ms/step - loss: 0.3967 - accuracy: 0.8624\n",
      "Epoch 72/100\n",
      "79/79 [==============================] - 0s 1ms/step - loss: 0.3927 - accuracy: 0.8655\n",
      "Epoch 73/100\n",
      "79/79 [==============================] - 0s 1ms/step - loss: 0.3862 - accuracy: 0.8689\n",
      "Epoch 74/100\n",
      "79/79 [==============================] - 0s 1ms/step - loss: 0.3824 - accuracy: 0.8699\n",
      "Epoch 75/100\n",
      "79/79 [==============================] - 0s 1ms/step - loss: 0.3797 - accuracy: 0.8711\n",
      "Epoch 76/100\n",
      "79/79 [==============================] - 0s 1ms/step - loss: 0.3761 - accuracy: 0.8738\n",
      "Epoch 77/100\n",
      "79/79 [==============================] - 0s 1ms/step - loss: 0.3707 - accuracy: 0.8753\n",
      "Epoch 78/100\n",
      "79/79 [==============================] - 0s 1ms/step - loss: 0.3665 - accuracy: 0.8800\n",
      "Epoch 79/100\n",
      "79/79 [==============================] - 0s 1ms/step - loss: 0.3664 - accuracy: 0.8777\n",
      "Epoch 80/100\n",
      "79/79 [==============================] - 0s 1ms/step - loss: 0.3609 - accuracy: 0.8784\n",
      "Epoch 81/100\n",
      "79/79 [==============================] - 0s 1ms/step - loss: 0.3566 - accuracy: 0.8824\n",
      "Epoch 82/100\n",
      "79/79 [==============================] - 0s 1ms/step - loss: 0.3521 - accuracy: 0.8828\n",
      "Epoch 83/100\n",
      "79/79 [==============================] - 0s 1ms/step - loss: 0.3498 - accuracy: 0.8832\n",
      "Epoch 84/100\n",
      "79/79 [==============================] - 0s 1ms/step - loss: 0.3475 - accuracy: 0.8842\n",
      "Epoch 85/100\n",
      "79/79 [==============================] - 0s 2ms/step - loss: 0.3449 - accuracy: 0.8839\n",
      "Epoch 86/100\n",
      "79/79 [==============================] - 0s 1ms/step - loss: 0.3422 - accuracy: 0.8864\n",
      "Epoch 87/100\n",
      "79/79 [==============================] - 0s 1ms/step - loss: 0.3386 - accuracy: 0.8867\n",
      "Epoch 88/100\n",
      "79/79 [==============================] - 0s 1ms/step - loss: 0.3368 - accuracy: 0.8897\n",
      "Epoch 89/100\n",
      "79/79 [==============================] - 0s 1ms/step - loss: 0.3325 - accuracy: 0.8906\n",
      "Epoch 90/100\n",
      "79/79 [==============================] - 0s 1ms/step - loss: 0.3292 - accuracy: 0.8904\n",
      "Epoch 91/100\n",
      "79/79 [==============================] - 0s 1ms/step - loss: 0.3270 - accuracy: 0.8923\n",
      "Epoch 92/100\n",
      "79/79 [==============================] - 0s 1ms/step - loss: 0.3268 - accuracy: 0.8934\n",
      "Epoch 93/100\n",
      "79/79 [==============================] - 0s 1ms/step - loss: 0.3243 - accuracy: 0.8930\n",
      "Epoch 94/100\n",
      "79/79 [==============================] - 0s 1ms/step - loss: 0.3224 - accuracy: 0.8917\n",
      "Epoch 95/100\n",
      "79/79 [==============================] - 0s 1ms/step - loss: 0.3189 - accuracy: 0.8945\n",
      "Epoch 96/100\n",
      "79/79 [==============================] - 0s 1ms/step - loss: 0.3167 - accuracy: 0.8959\n",
      "Epoch 97/100\n",
      "79/79 [==============================] - 0s 1ms/step - loss: 0.3151 - accuracy: 0.8965\n",
      "Epoch 98/100\n",
      "79/79 [==============================] - 0s 1ms/step - loss: 0.3127 - accuracy: 0.8976\n",
      "Epoch 99/100\n",
      "79/79 [==============================] - 0s 1ms/step - loss: 0.3110 - accuracy: 0.8985\n",
      "Epoch 100/100\n",
      "79/79 [==============================] - 0s 1ms/step - loss: 0.3086 - accuracy: 0.8982\n"
     ]
    },
    {
     "data": {
      "text/plain": [
       "<keras.src.callbacks.History at 0x18f12e0c760>"
      ]
     },
     "execution_count": 8,
     "metadata": {},
     "output_type": "execute_result"
    }
   ],
   "source": [
    "import os\n",
    "\n",
    "#https://stackoverflow.com/questions/53014306/error-15-initializing-libiomp5-dylib-but-found-libiomp5-dylib-already-initial\n",
    "# os.environ['KMP_DUPLICATE_LIB_OK']='True' \n",
    "\n",
    "# TODO: Compile and fit your model with 10 units per layer\n",
    "model = my_model(28*28)\n",
    "\n",
    "model.compile(optimizer='adam', loss='categorical_crossentropy', metrics=['accuracy'])\n",
    "\n",
    "model.fit(X_train_norm, y_train_cat, epochs=100, batch_size=128)"
   ]
  },
  {
   "cell_type": "markdown",
   "metadata": {},
   "source": [
    "Once your model has been trained, compute the accuracy (and other metrics if you want) on the train and test dataset.\n",
    "\n",
    "Be careful, Keras returns softmax output (so an array of 10 values between 0 and 1, for which the sum is equal to 1). To compute correctly the accuracy, you have to convert that array into a categorical array with zeros and a 1."
   ]
  },
  {
   "cell_type": "code",
   "execution_count": 9,
   "metadata": {},
   "outputs": [
    {
     "name": "stdout",
     "output_type": "stream",
     "text": [
      "accuracy on train with NN: 0.9007999897003174\n",
      "accuracy on test with NN: 0.8429999947547913\n"
     ]
    }
   ],
   "source": [
    "# TODO: Compute the accuracy of your model\n",
    "print('accuracy on train with NN:', model.evaluate(X_train_norm, y_train_cat, verbose=0)[1])\n",
    "print('accuracy on test with NN:', model.evaluate(X_test_norm, y_test_cat, verbose=0)[1])"
   ]
  },
  {
   "cell_type": "markdown",
   "metadata": {},
   "source": [
    "What do you think of those results? Can you improve it by changing the number of layers? Of units per layer? The number of epochs? The activation functions?\n",
    "\n",
    "You should try!"
   ]
  },
  {
   "cell_type": "markdown",
   "metadata": {},
   "source": [
    "---"
   ]
  },
  {
   "cell_type": "markdown",
   "metadata": {},
   "source": [
    "In order to compare your results with more traditional machine learning methods, you will do this work with another method: a PCA followed by a classification model (of your choice). Of course, you can perform hyperparameter optimization using a gridsearch on that model!\n",
    "\n",
    "Fit your model and display the performances."
   ]
  },
  {
   "cell_type": "code",
   "execution_count": 10,
   "metadata": {},
   "outputs": [],
   "source": [
    "# TODO: Redo the classification with PCA and classification model\n",
    "from sklearn.decomposition import PCA\n",
    "\n",
    "pca = PCA(n_components=10)\n",
    "pca.fit(X_train_norm)\n",
    "X_train_pca = pca.transform(X_train_norm)\n",
    "X_test_pca = pca.transform(X_test_norm)"
   ]
  },
  {
   "cell_type": "code",
   "execution_count": 12,
   "metadata": {},
   "outputs": [
    {
     "name": "stdout",
     "output_type": "stream",
     "text": [
      "score with RF on train 1.0\n",
      "score with RF on test 0.81\n"
     ]
    }
   ],
   "source": [
    "# TODO: use any classifier you want\n",
    "from sklearn.ensemble import RandomForestClassifier\n",
    "\n",
    "rf = RandomForestClassifier(n_estimators=100)\n",
    "\n",
    "rf.fit(X_train_pca, y_train)\n",
    "\n",
    "print('score with RF on train', rf.score(X_train_pca, y_train))\n",
    "print('score with RF on test', rf.score(X_test_pca, y_test))"
   ]
  },
  {
   "cell_type": "markdown",
   "metadata": {},
   "source": [
    "Are the performances different? Can you explain why?"
   ]
  },
  {
   "cell_type": "markdown",
   "metadata": {},
   "source": [
    "If you still have time, you could try to use scikit-learn's `Pipeline` to perform the hyperparameter optimization jointly on the PCA and the classification model. This might improve your performances."
   ]
  }
 ],
 "metadata": {
  "kernelspec": {
   "display_name": "Python 3",
   "language": "python",
   "name": "python3"
  },
  "language_info": {
   "codemirror_mode": {
    "name": "ipython",
    "version": 3
   },
   "file_extension": ".py",
   "mimetype": "text/x-python",
   "name": "python",
   "nbconvert_exporter": "python",
   "pygments_lexer": "ipython3",
   "version": "3.10.11"
  },
  "toc": {
   "base_numbering": 1,
   "nav_menu": {},
   "number_sections": true,
   "sideBar": true,
   "skip_h1_title": false,
   "title_cell": "Table of Contents",
   "title_sidebar": "Contents",
   "toc_cell": false,
   "toc_position": {},
   "toc_section_display": true,
   "toc_window_display": false
  }
 },
 "nbformat": 4,
 "nbformat_minor": 2
}
